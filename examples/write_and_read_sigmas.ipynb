{
 "cells": [
  {
   "cell_type": "code",
   "execution_count": 1,
   "id": "f9146092",
   "metadata": {},
   "outputs": [],
   "source": [
    "import warnings\n",
    "warnings.filterwarnings(\"ignore\")\n",
    "\n",
    "import pickle\n",
    "import pyscf\n",
    "import numpy as np\n",
    "from pyscf import gto, dft\n",
    "from sigma.sigma import SIGMA\n",
    "from sigma.usigma import USIGMA"
   ]
  },
  {
   "cell_type": "code",
   "execution_count": 2,
   "id": "b0b3a733",
   "metadata": {},
   "outputs": [
    {
     "name": "stdout",
     "output_type": "stream",
     "text": [
      "pyscf version: 2.5.0\n"
     ]
    }
   ],
   "source": [
    "print('pyscf version:', pyscf.__version__)"
   ]
  },
  {
   "cell_type": "code",
   "execution_count": 3,
   "id": "84e527e4",
   "metadata": {},
   "outputs": [
    {
     "name": "stdout",
     "output_type": "stream",
     "text": [
      "RPA:   E_corr=-0.5869782353  E_tot=-113.3481242528\n",
      "SIGMA: E_corr=-0.6379984552  E_tot=-113.3991444726\n"
     ]
    }
   ],
   "source": [
    "mol = gto.Mole()\n",
    "mol.verbose = 0\n",
    "mol.atom = [\n",
    "    [6 , (0. , 0. ,-0.646514)],\n",
    "    [8 , (0. , 0. , 0.484886)]]\n",
    "mol.basis = 'ccpvtz'\n",
    "mol.build()\n",
    "\n",
    "mf = dft.RKS(mol, xc='pbe').density_fit().run()\n",
    "\n",
    "sigma = SIGMA(mf)\n",
    "sigma.kernel(pkl=\"co.pkl\")\n",
    "print(f'RPA:   E_corr={sigma.e_corr_rpa:.10f}  E_tot={sigma.e_tot_rpa:.10f}')\n",
    "print(f'SIGMA: E_corr={sigma.e_corr:.10f}  E_tot={sigma.e_tot:.10f}')"
   ]
  },
  {
   "cell_type": "code",
   "execution_count": 4,
   "id": "7c96cc05",
   "metadata": {},
   "outputs": [],
   "source": [
    "def read_pkl(pkl):\n",
    "    with open(pkl, \"rb\") as fileObj:\n",
    "        e_hf = pickle.load(fileObj)\n",
    "        wts = pickle.load(fileObj)\n",
    "        allsigmas = pickle.load(fileObj)\n",
    "    return e_hf, wts, allsigmas"
   ]
  },
  {
   "cell_type": "code",
   "execution_count": 5,
   "id": "52a222df",
   "metadata": {},
   "outputs": [],
   "source": [
    "def eval_e_corr_rpa(wts, allsigmas):\n",
    "    e_corr_rpa = 0.0\n",
    "    for w in range(wts.shape[0]):\n",
    "        ec_w_rpa = 0.0\n",
    "        for sigma in allsigmas[w, :]:\n",
    "            if sigma > 0.0:\n",
    "                ec_w_rpa += np.log(1.0 + sigma) - sigma\n",
    "            else:\n",
    "                assert abs(sigma) < 1.0e-14\n",
    "        e_corr_rpa += 1.0 / (2.0 * np.pi) * ec_w_rpa * wts[w]\n",
    "    return e_corr_rpa"
   ]
  },
  {
   "cell_type": "code",
   "execution_count": 6,
   "id": "427df5c8",
   "metadata": {},
   "outputs": [
    {
     "name": "stdout",
     "output_type": "stream",
     "text": [
      "RPA:   E_corr=-0.5869782353  E_tot=-113.3481242528\n"
     ]
    }
   ],
   "source": [
    "e_hf, wts, allsigmas = read_pkl(\"co.pkl\")\n",
    "e_corr_rpa = eval_e_corr_rpa(wts, allsigmas)\n",
    "print(f'RPA:   E_corr={e_corr_rpa:.10f}  E_tot={e_hf+e_corr_rpa:.10f}')"
   ]
  },
  {
   "cell_type": "code",
   "execution_count": 7,
   "id": "cecfe714",
   "metadata": {},
   "outputs": [
    {
     "name": "stdout",
     "output_type": "stream",
     "text": [
      "RPA:   E_corr=-0.3609952264  E_tot=-55.3349335473\n",
      "SIGMA: E_corr=-0.3123859626  E_tot=-55.2863242835\n"
     ]
    }
   ],
   "source": [
    "mol = gto.Mole()\n",
    "mol.verbose = 0\n",
    "mol.atom = [\n",
    "    [7 , (0. , 0. , 0.129649)],\n",
    "    [1 , (0. , 0. ,-0.907543)]]\n",
    "mol.basis = {'N': 'augccpwcvtz', 'H': 'augccpvtz'}\n",
    "mol.spin = 2\n",
    "mol.build()\n",
    "\n",
    "mf = dft.UKS(mol, xc='pbe').density_fit().run()\n",
    "\n",
    "sigma = USIGMA(mf)\n",
    "sigma.kernel(pkl=\"nh.pkl\")\n",
    "print(f'RPA:   E_corr={sigma.e_corr_rpa:.10f}  E_tot={sigma.e_tot_rpa:.10f}')\n",
    "print(f'SIGMA: E_corr={sigma.e_corr:.10f}  E_tot={sigma.e_tot:.10f}')"
   ]
  },
  {
   "cell_type": "code",
   "execution_count": 8,
   "id": "cbf0d972",
   "metadata": {},
   "outputs": [
    {
     "name": "stdout",
     "output_type": "stream",
     "text": [
      "RPA:   E_corr=-0.3609952264  E_tot=-55.3349335473\n"
     ]
    }
   ],
   "source": [
    "e_hf, wts, allsigmas = read_pkl(\"nh.pkl\")\n",
    "e_corr_rpa = eval_e_corr_rpa(wts, allsigmas)\n",
    "print(f'RPA:   E_corr={e_corr_rpa:.10f}  E_tot={e_hf+e_corr_rpa:.10f}')"
   ]
  }
 ],
 "metadata": {
  "kernelspec": {
   "display_name": "Python 3 (ipykernel)",
   "language": "python",
   "name": "python3"
  },
  "language_info": {
   "codemirror_mode": {
    "name": "ipython",
    "version": 3
   },
   "file_extension": ".py",
   "mimetype": "text/x-python",
   "name": "python",
   "nbconvert_exporter": "python",
   "pygments_lexer": "ipython3",
   "version": "3.10.12"
  }
 },
 "nbformat": 4,
 "nbformat_minor": 5
}
