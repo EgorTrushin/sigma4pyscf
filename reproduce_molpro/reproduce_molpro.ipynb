{
 "cells": [
  {
   "cell_type": "markdown",
   "id": "325748c8",
   "metadata": {},
   "source": [
    "# Reproduction of Molpro results"
   ]
  },
  {
   "cell_type": "code",
   "execution_count": 1,
   "id": "50c7a41b",
   "metadata": {},
   "outputs": [],
   "source": [
    "import warnings\n",
    "warnings.filterwarnings(\"ignore\")\n",
    "\n",
    "import pyscf\n",
    "import basis_set_exchange\n",
    "from pyscf import gto, dft\n",
    "from sigma.sigma import SIGMA\n",
    "from sigma.usigma import USIGMA"
   ]
  },
  {
   "cell_type": "code",
   "execution_count": 2,
   "id": "c36d95c4",
   "metadata": {},
   "outputs": [
    {
     "name": "stdout",
     "output_type": "stream",
     "text": [
      "pyscf version: 2.8.0\n"
     ]
    }
   ],
   "source": [
    "print('pyscf version:', pyscf.__version__)"
   ]
  },
  {
   "cell_type": "markdown",
   "id": "749c77d6",
   "metadata": {},
   "source": [
    "## Spin-restricted SIGMA/RPA: CO as an example"
   ]
  },
  {
   "cell_type": "markdown",
   "id": "8083593f",
   "metadata": {},
   "source": [
    "Without specifying auxbasis, the results are not close enough to the Molrpo results."
   ]
  },
  {
   "cell_type": "code",
   "execution_count": 3,
   "id": "ae7fb2e6",
   "metadata": {},
   "outputs": [],
   "source": [
    "AUXBASIS = {\"C\": gto.load(basis_set_exchange.api.get_basis('aug-cc-pwCVQZ-RIFIT', elements='C', fmt='nwchem'), 'C'),\n",
    "            \"O\": gto.load(basis_set_exchange.api.get_basis('aug-cc-pwCVQZ-RIFIT', elements='O', fmt='nwchem'), 'O')}"
   ]
  },
  {
   "cell_type": "code",
   "execution_count": 4,
   "id": "77738b37",
   "metadata": {},
   "outputs": [
    {
     "name": "stdout",
     "output_type": "stream",
     "text": [
      "RPA:   E_corr=-0.8026575065  E_tot=-113.5699111213\n",
      "SIGMA: E_corr=-0.6033189902  E_tot=-113.3705726050\n",
      "Results with Molpro:\n",
      "RPA:   E_corr=-0.8026574972  E_tot=-113.5699125887\n",
      "SIGMA: E_corr=-0.6033190150  E_tot=-113.3705741065\n"
     ]
    }
   ],
   "source": [
    "# PBE reference\n",
    "mol = gto.Mole()\n",
    "mol.verbose = 0\n",
    "mol.atom = [\n",
    "    [6 , (0. , 0. ,-0.646514)],\n",
    "    [8 , (0. , 0. , 0.484886)]]\n",
    "mol.basis = 'augccpwcvqz'\n",
    "mol.build()\n",
    "\n",
    "mf = dft.RKS(mol, xc='pbe').density_fit(auxbasis=AUXBASIS).run()\n",
    "\n",
    "sigma = SIGMA(mf)\n",
    "sigma.kernel()\n",
    "print(f'RPA:   E_corr={sigma.e_corr_rpa:.10f}  E_tot={sigma.e_tot_rpa:.10f}')\n",
    "print(f'SIGMA: E_corr={sigma.e_corr:.10f}  E_tot={sigma.e_tot:.10f}')\n",
    "print('Results with Molpro:')\n",
    "print('RPA:   E_corr=-0.8026574972  E_tot=-113.5699125887')\n",
    "print('SIGMA: E_corr=-0.6033190150  E_tot=-113.3705741065')"
   ]
  },
  {
   "cell_type": "code",
   "execution_count": 5,
   "id": "0f792a69",
   "metadata": {},
   "outputs": [
    {
     "name": "stdout",
     "output_type": "stream",
     "text": [
      "RPA:   E_corr=-0.7481528210  E_tot=-113.5255913395\n",
      "SIGMA: E_corr=-0.5910935478  E_tot=-113.3685320663\n",
      "Results with Molpro:\n",
      "RPA:   E_corr=-0.7481530934  E_tot=-113.5255931397\n",
      "SIGMA: E_corr=-0.5910940326  E_tot=-113.3685340791\n"
     ]
    }
   ],
   "source": [
    "# PBE0 reference\n",
    "mol = gto.Mole()\n",
    "mol.verbose = 0\n",
    "mol.atom = [\n",
    "    [6 , (0. , 0. ,-0.646514)],\n",
    "    [8 , (0. , 0. , 0.484886)]]\n",
    "mol.basis = 'augccpwcvqz'\n",
    "mol.build()\n",
    "\n",
    "mf = dft.RKS(mol, xc='pbe0').density_fit(auxbasis=AUXBASIS).run()\n",
    "\n",
    "sigma = SIGMA(mf)\n",
    "sigma.kernel()\n",
    "print(f'RPA:   E_corr={sigma.e_corr_rpa:.10f}  E_tot={sigma.e_tot_rpa:.10f}')\n",
    "print(f'SIGMA: E_corr={sigma.e_corr:.10f}  E_tot={sigma.e_tot:.10f}')\n",
    "print('Results with Molpro:')\n",
    "print('RPA:   E_corr=-0.7481530934  E_tot=-113.5255931397')\n",
    "print('SIGMA: E_corr=-0.5910940326  E_tot=-113.3685340791')"
   ]
  },
  {
   "cell_type": "markdown",
   "id": "dc5e5648",
   "metadata": {},
   "source": [
    "## Spin-unrestricted SIGMA/RPA: NH as an example"
   ]
  },
  {
   "cell_type": "code",
   "execution_count": 6,
   "id": "802c50c6",
   "metadata": {},
   "outputs": [],
   "source": [
    "AUXBASIS = {\"N\": gto.load(basis_set_exchange.api.get_basis('aug-cc-pwCVQZ-RIFIT', elements='N', fmt='nwchem'), 'N'),\n",
    "            \"H\": gto.load(basis_set_exchange.api.get_basis('aug-cc-pVQZ-RIFIT', elements='H', fmt='nwchem'), 'H')}"
   ]
  },
  {
   "cell_type": "code",
   "execution_count": 7,
   "id": "e96a3494",
   "metadata": {},
   "outputs": [
    {
     "name": "stdout",
     "output_type": "stream",
     "text": [
      "RPA:   E_corr=-0.3903608275  E_tot=-55.3670285558\n",
      "SIGMA: E_corr=-0.2840086425  E_tot=-55.2606763708\n",
      "Results with Molpro:\n",
      "RPA:   E_corr=-0.3903602822  E_tot=-55.3670281990\n",
      "SIGMA: E_corr=-0.2840083788  E_tot=-55.2606762955\n"
     ]
    }
   ],
   "source": [
    "# PBE reference\n",
    "mol = gto.Mole()\n",
    "mol.verbose = 0\n",
    "mol.atom = [\n",
    "    [7 , (0. , 0. , 0.129649)],\n",
    "    [1 , (0. , 0. ,-0.907543)]]\n",
    "mol.basis = {'N': 'augccpwcvqz', 'H': 'augccpvqz'}\n",
    "mol.spin = 2\n",
    "mol.build()\n",
    "\n",
    "mf = dft.UKS(mol, xc='pbe').density_fit(auxbasis=AUXBASIS).run()\n",
    "\n",
    "sigma = USIGMA(mf)\n",
    "sigma.kernel()\n",
    "print(f'RPA:   E_corr={sigma.e_corr_rpa:.10f}  E_tot={sigma.e_tot_rpa:.10f}')\n",
    "print(f'SIGMA: E_corr={sigma.e_corr:.10f}  E_tot={sigma.e_tot:.10f}')\n",
    "print('Results with Molpro:')\n",
    "print('RPA:   E_corr=-0.3903602822  E_tot=-55.3670281990')\n",
    "print('SIGMA: E_corr=-0.2840083788  E_tot=-55.2606762955')"
   ]
  },
  {
   "cell_type": "code",
   "execution_count": 8,
   "id": "979f1927",
   "metadata": {},
   "outputs": [
    {
     "name": "stdout",
     "output_type": "stream",
     "text": [
      "RPA:   E_corr=-0.3632253138  E_tot=-55.3441797640\n",
      "SIGMA: E_corr=-0.2744951161  E_tot=-55.2554495663\n",
      "Results with Molpro:\n",
      "RPA:   E_corr=-0.3632251623  E_tot=-55.3441796230\n",
      "SIGMA: E_corr=-0.2744950662  E_tot=-55.2554495269\n"
     ]
    }
   ],
   "source": [
    "# PBE0 reference\n",
    "mol = gto.Mole()\n",
    "mol.verbose = 0\n",
    "mol.atom = [\n",
    "    [7 , (0. , 0. , 0.129649)],\n",
    "    [1 , (0. , 0. ,-0.907543)]]\n",
    "mol.basis = {'N': 'augccpwcvqz', 'H': 'augccpvqz'}\n",
    "mol.spin = 2\n",
    "mol.build()\n",
    "\n",
    "mf = dft.UKS(mol, xc='pbe0').density_fit(auxbasis=AUXBASIS).run()\n",
    "\n",
    "sigma = USIGMA(mf)\n",
    "sigma.kernel()\n",
    "print(f'RPA:   E_corr={sigma.e_corr_rpa:.10f}  E_tot={sigma.e_tot_rpa:.10f}')\n",
    "print(f'SIGMA: E_corr={sigma.e_corr:.10f}  E_tot={sigma.e_tot:.10f}')\n",
    "print('Results with Molpro:')\n",
    "print('RPA:   E_corr=-0.3632251623  E_tot=-55.3441796230')\n",
    "print('SIGMA: E_corr=-0.2744950662  E_tot=-55.2554495269')"
   ]
  }
 ],
 "metadata": {
  "kernelspec": {
   "display_name": "Python 3 (ipykernel)",
   "language": "python",
   "name": "python3"
  },
  "language_info": {
   "codemirror_mode": {
    "name": "ipython",
    "version": 3
   },
   "file_extension": ".py",
   "mimetype": "text/x-python",
   "name": "python",
   "nbconvert_exporter": "python",
   "pygments_lexer": "ipython3",
   "version": "3.13.2"
  }
 },
 "nbformat": 4,
 "nbformat_minor": 5
}
